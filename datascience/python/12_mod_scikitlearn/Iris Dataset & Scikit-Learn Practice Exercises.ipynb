{
 "cells": [
  {
   "cell_type": "markdown",
   "id": "f2bfa019",
   "metadata": {},
   "source": [
    "# Exercises"
   ]
  },
  {
   "cell_type": "markdown",
   "id": "766d85c9",
   "metadata": {},
   "source": [
    "## A. Basics"
   ]
  },
  {
   "cell_type": "markdown",
   "id": "174efe17",
   "metadata": {},
   "source": [
    "### Exercise 1"
   ]
  },
  {
   "cell_type": "markdown",
   "id": "36b48d4f",
   "metadata": {},
   "source": [
    "Load the Iris data into a `DataFrame` and print the shape of the data, the type of the data, and the first 3 rows."
   ]
  },
  {
   "cell_type": "code",
   "execution_count": null,
   "id": "19d5befc",
   "metadata": {},
   "outputs": [],
   "source": [
    "import pandas as pd\n",
    "\n",
    "# Load the data into a DataFrame\n",
    "url = \"https://archive.ics.uci.edu/ml/machine-learning-databases/iris/iris.data\"\n",
    "columns = [\"sepal_length\", \"sepal_width\", \"petal_length\", \"petal_width\", \"class\"]\n",
    "iris = pd.read_csv(url, header=None, names=columns)\n",
    "\n",
    "# Print the shape of the data\n",
    "print(\"Shape of the data:\", iris.shape)\n",
    "\n",
    "# Print the type of the data\n",
    "print(\"Type of the data:\", type(iris))\n",
    "\n",
    "# Print the first 3 rows of the data\n",
    "print(\"First 3 rows of the data:\\n\", iris.head(3))\n"
   ]
  },
  {
   "cell_type": "markdown",
   "id": "d3674477",
   "metadata": {},
   "source": [
    "### Exercise 2"
   ]
  },
  {
   "cell_type": "markdown",
   "id": "0631e093",
   "metadata": {},
   "source": [
    "Print the keys of the Iris data."
   ]
  },
  {
   "cell_type": "code",
   "execution_count": null,
   "id": "6d0410a7",
   "metadata": {},
   "outputs": [],
   "source": [
    "print(iris.keys())\n"
   ]
  },
  {
   "cell_type": "markdown",
   "id": "57c1b461",
   "metadata": {},
   "source": [
    "### Exercise 3"
   ]
  },
  {
   "cell_type": "markdown",
   "id": "83026cf0",
   "metadata": {},
   "source": [
    "Get the number of observations and missing values of the Iris data."
   ]
  },
  {
   "cell_type": "code",
   "execution_count": null,
   "id": "31bda003",
   "metadata": {},
   "outputs": [],
   "source": [
    "print(iris.info())\n"
   ]
  },
  {
   "cell_type": "markdown",
   "id": "23a83d0b",
   "metadata": {},
   "source": [
    "### Exercise 4"
   ]
  },
  {
   "cell_type": "markdown",
   "id": "1c329ce0",
   "metadata": {},
   "source": [
    "View basic statistical details like percentiles, mean, standard deviation, etc., of the Iris data."
   ]
  },
  {
   "cell_type": "code",
   "execution_count": null,
   "id": "d76c6703",
   "metadata": {},
   "outputs": [],
   "source": [
    "print(iris.describe())\n"
   ]
  },
  {
   "cell_type": "markdown",
   "id": "d4c53a5e",
   "metadata": {},
   "source": [
    "### Exercise 5"
   ]
  },
  {
   "cell_type": "markdown",
   "id": "c3731495",
   "metadata": {},
   "source": [
    "Get observations of each species (setosa, versicolor, virginica) from the Iris data."
   ]
  },
  {
   "cell_type": "code",
   "execution_count": null,
   "id": "211750bd",
   "metadata": {},
   "outputs": [],
   "source": [
    "setosa = iris[iris[4] == 'Iris-setosa']\n",
    "versicolor = iris[iris[4] == 'Iris-versicolor']\n",
    "virginica = iris[iris[4] == 'Iris-virginica']\n",
    "print(setosa)\n",
    "print(versicolor)\n",
    "print(virginica)\n"
   ]
  },
  {
   "cell_type": "markdown",
   "id": "3f781425",
   "metadata": {},
   "source": [
    "### Exercise 6"
   ]
  },
  {
   "cell_type": "markdown",
   "id": "37091a63",
   "metadata": {},
   "source": [
    "Access the first four columns for the first observation from the Iris data."
   ]
  },
  {
   "cell_type": "code",
   "execution_count": null,
   "id": "0600d21d",
   "metadata": {},
   "outputs": [],
   "source": [
    "print(iris.iloc[0, :4])\n"
   ]
  },
  {
   "cell_type": "markdown",
   "id": "41e3f3d2",
   "metadata": {},
   "source": [
    "## B. Visualization"
   ]
  },
  {
   "cell_type": "markdown",
   "id": "a8f70ddf",
   "metadata": {},
   "source": [
    "### Exercise 1"
   ]
  },
  {
   "cell_type": "markdown",
   "id": "336f1704",
   "metadata": {},
   "source": [
    "Create a bar plot to get the frequency of the 3 species of the Iris data."
   ]
  },
  {
   "cell_type": "code",
   "execution_count": null,
   "id": "78cfed9c",
   "metadata": {},
   "outputs": [],
   "source": [
    "import matplotlib.pyplot as plt\n",
    "\n",
    "species_count = iris[4].value_counts()\n",
    "plt.bar(species_count.index, species_count.values)\n",
    "plt.xlabel('Species')\n",
    "plt.ylabel('Count')\n",
    "plt.show()\n"
   ]
  },
  {
   "cell_type": "markdown",
   "id": "bd28b3e3",
   "metadata": {},
   "source": [
    "### Exercise 2"
   ]
  },
  {
   "cell_type": "markdown",
   "id": "ace6c13d",
   "metadata": {},
   "source": [
    "Create a graph to find the relationship between the sepal length and sepal width of each species."
   ]
  },
  {
   "cell_type": "code",
   "execution_count": null,
   "id": "7c6bbd62",
   "metadata": {},
   "outputs": [],
   "source": [
    "setosa = iris[iris[4] == 'Iris-setosa']\n",
    "versicolor = iris[iris[4] == 'Iris-versicolor']\n",
    "virginica = iris[iris[4] == 'Iris-virginica']\n",
    "plt.scatter(setosa[0], setosa[1], label='setosa')\n",
    "plt.scatter(versicolor[0], versicolor[1], label='versicolor')\n",
    "plt.scatter(virginica[0], virginica[1], label='virginica')\n",
    "plt.xlabel('Sepal Length')\n",
    "plt.ylabel('Sepal Width')\n",
    "plt.legend()\n",
    "plt.show()\n"
   ]
  },
  {
   "cell_type": "markdown",
   "id": "fc1caa7b",
   "metadata": {},
   "source": [
    "### Exercise 3"
   ]
  },
  {
   "cell_type": "markdown",
   "id": "3527901d",
   "metadata": {},
   "source": [
    "Create a graph to find the relationship between the petal length and petal width of each species."
   ]
  },
  {
   "cell_type": "code",
   "execution_count": null,
   "id": "c8aefa9e",
   "metadata": {},
   "outputs": [],
   "source": [
    "setosa = iris[iris[4] == 'Iris-setosa']\n",
    "versicolor = iris[iris[4] == 'Iris-versicolor']\n",
    "virginica = iris[iris[4] == 'Iris-virginica']\n",
    "plt.scatter(setosa[2], setosa[3], label='setosa')\n",
    "plt.scatter(versicolor[2], versicolor[3], label='versicolor')\n",
    "plt.scatter(virginica[2], virginica[3], label='virginica')\n",
    "plt.xlabel('Petal Length')\n",
    "plt.ylabel('Petal Width')\n",
    "plt.legend()\n",
    "plt.show()\n"
   ]
  },
  {
   "cell_type": "markdown",
   "id": "6036863d",
   "metadata": {},
   "source": [
    "### Exercise 4"
   ]
  },
  {
   "cell_type": "markdown",
   "id": "5b1ba93d",
   "metadata": {},
   "source": [
    "Create 4 graphs to visualize the distribution of the sepal length, sepal width, petal length, and petal width."
   ]
  },
  {
   "cell_type": "code",
   "execution_count": null,
   "id": "c998d984",
   "metadata": {},
   "outputs": [],
   "source": [
    "import pandas as pd\n",
    "import numpy as np\n",
    "import matplotlib.pyplot as plt\n",
    "\n",
    "# Load Iris dataset\n",
    "iris_df = pd.read_csv('https://archive.ics.uci.edu/ml/machine-learning-databases/iris/iris.data', header=None,\n",
    "                      names=['sepal_length', 'sepal_width', 'petal_length', 'petal_width', 'class'])\n",
    "\n",
    "# Create four subplots for each feature\n",
    "fig, axs = plt.subplots(2, 2, figsize=(10, 8))\n",
    "\n",
    "# Plot sepal length histogram\n",
    "axs[0, 0].hist(iris_df['sepal_length'], bins=20, edgecolor='black')\n",
    "axs[0, 0].set_title('Sepal Length Distribution')\n",
    "\n",
    "# Plot sepal width histogram\n",
    "axs[0, 1].hist(iris_df['sepal_width'], bins=20, edgecolor='black')\n",
    "axs[0, 1].set_title('Sepal Width Distribution')\n",
    "\n",
    "# Plot petal length histogram\n",
    "axs[1, 0].hist(iris_df['petal_length'], bins=20, edgecolor='black')\n",
    "axs[1, 0].set_title('Petal Length Distribution')\n",
    "\n",
    "# Plot petal width histogram\n",
    "axs[1, 1].hist(iris_df['petal_width'], bins=20, edgecolor='black')\n",
    "axs[1, 1].set_title('Petal Width Distribution')\n",
    "\n",
    "plt.show()\n"
   ]
  },
  {
   "cell_type": "markdown",
   "id": "cd20a4a2",
   "metadata": {},
   "source": [
    "### Exercise 5"
   ]
  },
  {
   "cell_type": "markdown",
   "id": "657b0a2b",
   "metadata": {},
   "source": [
    "Create a jointplot to describe individual distributions on the same plot between sepal length and sepal width."
   ]
  },
  {
   "cell_type": "code",
   "execution_count": null,
   "id": "6148d128",
   "metadata": {},
   "outputs": [],
   "source": [
    "import seaborn as sns\n",
    "import pandas as pd\n",
    "\n",
    "# Load the iris dataset from seaborn library\n",
    "iris = sns.load_dataset(\"iris\")\n",
    "\n",
    "# Create a jointplot between sepal length and sepal width\n",
    "sns.jointplot(x=\"sepal_length\", y=\"sepal_width\", data=iris)\n",
    "\n",
    "# Show the plot\n",
    "plt.show()\n"
   ]
  },
  {
   "cell_type": "markdown",
   "id": "e9ace67b",
   "metadata": {},
   "source": [
    "### Exercise 6"
   ]
  },
  {
   "cell_type": "markdown",
   "id": "d1eb9978",
   "metadata": {},
   "source": [
    "Create a jointplot using hexagonal bins to describe individual distributions on the same plot between sepal length and sepal width."
   ]
  },
  {
   "cell_type": "code",
   "execution_count": null,
   "id": "28a71069",
   "metadata": {},
   "outputs": [],
   "source": [
    "import seaborn as sns\n",
    "import pandas as pd\n",
    "\n",
    "# Load the iris dataset\n",
    "iris = sns.load_dataset('iris')\n",
    "\n",
    "# Create a jointplot with hexagonal bins\n",
    "sns.jointplot(x='sepal_length', y='sepal_width', data=iris, kind='hex')\n",
    "\n",
    "# Show the plot\n",
    "plt.show()\n"
   ]
  },
  {
   "cell_type": "markdown",
   "id": "24a21de7",
   "metadata": {},
   "source": [
    "### Exercise 7"
   ]
  },
  {
   "cell_type": "markdown",
   "id": "aaeac7ef",
   "metadata": {},
   "source": [
    "Create a jointplot using kernel density estimation to describe individual distributions between sepal length and sepal width."
   ]
  },
  {
   "cell_type": "code",
   "execution_count": null,
   "id": "6a95ead5",
   "metadata": {},
   "outputs": [],
   "source": [
    "import seaborn as sns\n",
    "import matplotlib.pyplot as plt\n",
    "\n",
    "# Load the iris dataset\n",
    "iris = sns.load_dataset('iris')\n",
    "\n",
    "# Create a jointplot with kernel density estimation\n",
    "sns.jointplot(x='sepal_length', y='sepal_width', data=iris, kind='kde')\n",
    "\n",
    "# Show the plot\n",
    "plt.show()\n"
   ]
  },
  {
   "cell_type": "markdown",
   "id": "1feb53f2",
   "metadata": {},
   "source": [
    "### Exercise 8"
   ]
  },
  {
   "cell_type": "markdown",
   "id": "f308d5d5",
   "metadata": {},
   "source": [
    "Create a jointplot and add regression and KDE to describe individual distributions on the same plot between sepal length and sepal width."
   ]
  },
  {
   "cell_type": "code",
   "execution_count": null,
   "id": "b34d80ec",
   "metadata": {},
   "outputs": [],
   "source": [
    "import seaborn as sns\n",
    "import matplotlib.pyplot as plt\n",
    "\n",
    "# Load the iris dataset\n",
    "iris = sns.load_dataset('iris')\n",
    "\n",
    "# Create a jointplot with regression and KDE\n",
    "sns.jointplot(x='sepal_length', y='sepal_width', data=iris, kind='reg', joint_kws={'line_kws':{'color':'red'},'scatter_kws': {'alpha': 0.3}}, color='blue')\n",
    "\n",
    "# Show the plot\n",
    "plt.show()\n"
   ]
  },
  {
   "cell_type": "markdown",
   "id": "35b68093",
   "metadata": {},
   "source": [
    "### Exercise 9"
   ]
  },
  {
   "cell_type": "markdown",
   "id": "6292c19a",
   "metadata": {},
   "source": [
    "Create a pairplot of the Iris data based on species."
   ]
  },
  {
   "cell_type": "code",
   "execution_count": null,
   "id": "5ae2e2fa",
   "metadata": {},
   "outputs": [],
   "source": [
    "import seaborn as sns\n",
    "\n",
    "# Load the iris dataset\n",
    "iris = sns.load_dataset('iris')\n",
    "\n",
    "# Create a pairplot based on species\n",
    "sns.pairplot(data=iris, hue='species')\n",
    "\n",
    "# Show the plot\n",
    "plt.show()\n"
   ]
  },
  {
   "cell_type": "markdown",
   "id": "8c393276",
   "metadata": {},
   "source": [
    "### Exercise 10"
   ]
  },
  {
   "cell_type": "markdown",
   "id": "b9255a22",
   "metadata": {},
   "source": [
    "Find the correlation between the independent variables of the Iris data and create a heatmap to present their relationships."
   ]
  },
  {
   "cell_type": "code",
   "execution_count": null,
   "id": "456be393",
   "metadata": {},
   "outputs": [],
   "source": [
    "import seaborn as sns\n",
    "import matplotlib.pyplot as plt\n",
    "\n",
    "# Load the iris dataset\n",
    "iris = sns.load_dataset('iris')\n",
    "\n",
    "# Calculate the correlation matrix\n",
    "corr = iris.corr()\n",
    "\n",
    "# Create a heatmap to visualize the correlation matrix\n",
    "sns.heatmap(corr, cmap='coolwarm', annot=True)\n",
    "\n",
    "# Show the plot\n",
    "plt.show()\n"
   ]
  },
  {
   "cell_type": "markdown",
   "id": "fdf664a2",
   "metadata": {},
   "source": [
    "### Exercise 11"
   ]
  },
  {
   "cell_type": "markdown",
   "id": "98c46256",
   "metadata": {},
   "source": [
    "Conduct a principal component analysis (PCA) of the Iris dataset to reduce the number of dimensions from 4 to 2. Remember to create a features matrix with the independent variables first. Plot the results."
   ]
  },
  {
   "cell_type": "code",
   "execution_count": null,
   "id": "72cc79aa",
   "metadata": {},
   "outputs": [],
   "source": [
    "import pandas as pd\n",
    "import matplotlib.pyplot as plt\n",
    "from sklearn.decomposition import PCA\n",
    "\n",
    "# Load the iris dataset\n",
    "iris = pd.read_csv('https://archive.ics.uci.edu/ml/machine-learning-databases/iris/iris.data',\n",
    "                   header=None, names=['sepal_length', 'sepal_width', 'petal_length', 'petal_width', 'class'])\n",
    "\n",
    "# Create features matrix\n",
    "X = iris.drop('class', axis=1)\n",
    "\n",
    "# Perform PCA with 2 components\n",
    "pca = PCA(n_components=2)\n",
    "X_pca = pca.fit_transform(X)\n",
    "\n",
    "# Visualize the results\n",
    "plt.scatter(X_pca[:, 0], X_pca[:, 1], c=iris['class'].map({'Iris-setosa': 'red', 'Iris-versicolor': 'blue', 'Iris-virginica': 'green'}))\n",
    "plt.xlabel('Principal Component 1')\n",
    "plt.ylabel('Principal Component 2')\n",
    "plt.show()\n"
   ]
  },
  {
   "cell_type": "markdown",
   "id": "b3e9f24e",
   "metadata": {},
   "source": [
    "## C. Machine Learning Algorithms"
   ]
  },
  {
   "cell_type": "markdown",
   "id": "6a350233",
   "metadata": {},
   "source": [
    "In this section, utilize at least 3 machine learning algorithms (either discussed in class or from research you've conducted on your own) to create some models for this data.\n",
    "\n",
    "Some options include:\n",
    "\n",
    "- Gaussian mixture model (clustering)\n",
    "- K-nearest neighbors (clustering)\n",
    "- Gaussian naive Bayes (classification)\n",
    "- Logistic regression (classification)\n",
    "\n",
    "Split the Iris dataset into a training set and a testing set. Choose a class of model, instantiate the model instance with hyperparameters, fit the model, and produce some output (e.g., clusters, confusion matrices, etc.)."
   ]
  }
 ],
 "metadata": {
  "kernelspec": {
   "display_name": "Python 3 (ipykernel)",
   "language": "python",
   "name": "python3"
  },
  "language_info": {
   "codemirror_mode": {
    "name": "ipython",
    "version": 3
   },
   "file_extension": ".py",
   "mimetype": "text/x-python",
   "name": "python",
   "nbconvert_exporter": "python",
   "pygments_lexer": "ipython3",
   "version": "3.9.13"
  }
 },
 "nbformat": 4,
 "nbformat_minor": 5
}
