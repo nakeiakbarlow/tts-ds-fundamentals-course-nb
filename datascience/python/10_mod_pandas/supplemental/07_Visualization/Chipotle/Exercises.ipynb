{
 "cells": [
  {
   "cell_type": "markdown",
   "metadata": {},
   "source": [
    "# Visualizing Chipotle's Data"
   ]
  },
  {
   "cell_type": "markdown",
   "metadata": {},
   "source": [
    "This time we are going to pull data directly from the internet.\n",
    "Special thanks to: https://github.com/justmarkham for sharing the dataset and materials.\n",
    "\n",
    "### Step 1. Import the necessary libraries"
   ]
  },
  {
   "cell_type": "code",
   "execution_count": 1,
   "metadata": {},
   "outputs": [],
   "source": [
    "import pandas as pd\n",
    "import matplotlib.pyplot as plt\n",
    "from collections import Counter\n",
    "\n",
    "# set this so the graphs open internally\n",
    "%matplotlib inline"
   ]
  },
  {
   "cell_type": "markdown",
   "metadata": {},
   "source": [
    "### Step 2. Import the dataset from this [address](https://raw.githubusercontent.com/justmarkham/DAT8/master/data/chipotle.tsv). "
   ]
  },
  {
   "cell_type": "markdown",
   "metadata": {},
   "source": [
    "### Step 3. Assign it to a variable called chipo."
   ]
  },
  {
   "cell_type": "code",
   "execution_count": null,
   "metadata": {},
   "outputs": [],
   "source": [
    "url = \"https://raw.githubusercontent.com/justmarkham/DAT8/master/data/chipotle.tsv\"\n",
    "chipo = pd.read_csv(url, sep='\\t')\n",
    "# Display the first 5 entries in the dataframe\n",
    "chipo.head()\n"
   ]
  },
  {
   "cell_type": "markdown",
   "metadata": {},
   "source": [
    "### Step 4. See the first 10 entries"
   ]
  },
  {
   "cell_type": "code",
   "execution_count": null,
   "metadata": {
    "scrolled": false
   },
   "outputs": [],
   "source": [
    "# Display the first 10 entries in the dataframe\n",
    "chipo.head(10)\n"
   ]
  },
  {
   "cell_type": "markdown",
   "metadata": {},
   "source": [
    "### Step 5. Create a histogram of the top 5 items bought"
   ]
  },
  {
   "cell_type": "code",
   "execution_count": null,
   "metadata": {},
   "outputs": [],
   "source": [
    "# Get the top 5 items\n",
    "top_5_items = chipo['item_name'].value_counts().head()\n",
    "\n",
    "# Create a histogram of the top 5 items\n",
    "plt.figure(figsize=(10, 6))\n",
    "plt.bar(top_5_items.index, top_5_items.values)\n",
    "plt.title('Top 5 items bought')\n",
    "plt.xlabel('Item')\n",
    "plt.ylabel('Number of times ordered')\n",
    "plt.show()\n"
   ]
  },
  {
   "cell_type": "markdown",
   "metadata": {},
   "source": [
    "### Step 6. Create a scatterplot with the number of items orderered per order price\n",
    "#### Hint: Price should be in the X-axis and Items ordered in the Y-axis"
   ]
  },
  {
   "cell_type": "code",
   "execution_count": null,
   "metadata": {},
   "outputs": [],
   "source": [
    "# Create a new column for total order price\n",
    "chipo['total_order_price'] = chipo['item_price'] * chipo['quantity']\n",
    "\n",
    "# Get the total order price and number of items ordered for each order\n",
    "orders = chipo.groupby('order_id').sum()\n",
    "\n",
    "# Create a scatterplot of total order price and number of items ordered\n",
    "plt.figure(figsize=(10, 6))\n",
    "plt.scatter(orders['total_order_price'], orders['quantity'], s=50, alpha=0.5)\n",
    "plt.title('Number of items ordered per order price')\n",
    "plt.xlabel('Order price ($)')\n",
    "plt.ylabel('Number of items ordered')\n",
    "plt.show()\n"
   ]
  },
  {
   "cell_type": "markdown",
   "metadata": {},
   "source": [
    "### Step 7. BONUS: Create a question and a graph to answer your own question."
   ]
  },
  {
   "cell_type": "code",
   "execution_count": null,
   "metadata": {},
   "outputs": [],
   "source": [
    "#Question: What is the distribution of order prices?\n",
    "\n",
    "# Create a histogram of order prices\n",
    "plt.figure(figsize=(10, 6))\n",
    "plt.hist(orders['total_order_price'], bins=30)\n",
    "plt.title('Distribution of order prices')\n",
    "plt.xlabel('Order price ($)')\n",
    "plt.ylabel('Number of orders')\n",
    "plt.show()\n",
    "# The graph shows that most orders are below $100, with a few orders exceeding $150."
   ]
  }
 ],
 "metadata": {
  "kernelspec": {
   "display_name": "Python 3",
   "language": "python",
   "name": "python3"
  },
  "language_info": {
   "codemirror_mode": {
    "name": "ipython",
    "version": 3
   },
   "file_extension": ".py",
   "mimetype": "text/x-python",
   "name": "python",
   "nbconvert_exporter": "python",
   "pygments_lexer": "ipython3",
   "version": "3.7.3"
  }
 },
 "nbformat": 4,
 "nbformat_minor": 1
}
